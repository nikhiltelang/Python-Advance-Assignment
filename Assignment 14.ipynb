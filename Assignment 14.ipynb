{
 "cells": [
  {
   "cell_type": "markdown",
   "id": "c55354e5",
   "metadata": {},
   "source": [
    "<b>Q1. Is an assignment operator like += only for show? Is it possible that it would lead to faster results at the runtime?</b>"
   ]
  },
  {
   "cell_type": "markdown",
   "id": "1bfb040b",
   "metadata": {},
   "source": [
    "Ans:The Python += operator lets you add two values together and assign the resultant value to a variable. This operator is often referred to as the addition assignment operator. It is shorter than adding two numbers together and then assigning the resulting value using both a + and an = sign separately.\n",
    "\n",
    "There may be a case where you want to add two values and assign the resulting value to a variable. That’s where Python’s addition assignment operator can come in handy.\n"
   ]
  },
  {
   "cell_type": "markdown",
   "id": "91880cd1",
   "metadata": {},
   "source": [
    "<b>Q2. What is the smallest number of statements you'd have to write in most programming languages to replace the Python expression a, b = a + b, a?</b>"
   ]
  },
  {
   "cell_type": "code",
   "execution_count": null,
   "id": "f3cf54f4",
   "metadata": {},
   "outputs": [],
   "source": [
    "Ans: it's eqivalent to \n",
    "c = a + b\n",
    "a = b\n",
    "b = c"
   ]
  },
  {
   "cell_type": "markdown",
   "id": "acb052c3",
   "metadata": {},
   "source": [
    "<b>Q3. In Python, what is the most effective way to set a list of 100 integers to 0?</b>"
   ]
  },
  {
   "cell_type": "code",
   "execution_count": null,
   "id": "c6fb4d47",
   "metadata": {},
   "outputs": [],
   "source": [
    "Ans: my_list = []\n",
    "for i in range(100):\n",
    "    my_list.append(0)"
   ]
  },
  {
   "cell_type": "markdown",
   "id": "fd0eaccc",
   "metadata": {},
   "source": [
    "<b>Q4. What is the most effective way to initialise a list of 99 integers that repeats the sequence 1, 2, 3? S If necessary, show step-by-step instructions on how to accomplish this.</b>"
   ]
  },
  {
   "cell_type": "code",
   "execution_count": null,
   "id": "8ae88ca6",
   "metadata": {},
   "outputs": [],
   "source": [
    "Ans: a_list = list(range(0, 100))\n",
    "\n",
    "print(a_list)"
   ]
  },
  {
   "cell_type": "markdown",
   "id": "5bc08eba",
   "metadata": {},
   "source": [
    "<b>Q5. If you're using IDLE to run a Python application, explain how to print a multidimensional list as efficiently?</b>"
   ]
  },
  {
   "cell_type": "code",
   "execution_count": null,
   "id": "2fafc337",
   "metadata": {},
   "outputs": [],
   "source": [
    "Ans:\n",
    "    a = [[2, 4, 6, 8, 10], [3, 6, 9, 12, 15], [4, 8, 12, 16, 20]]\n",
    "for record in a:\n",
    "    print(record)"
   ]
  },
  {
   "cell_type": "markdown",
   "id": "d8129421",
   "metadata": {},
   "source": [
    "<b>Q6. Is it possible to use list comprehension with a string? If so, how can you go about doing it?</b>"
   ]
  },
  {
   "cell_type": "code",
   "execution_count": null,
   "id": "b6ceb083",
   "metadata": {},
   "outputs": [],
   "source": [
    "Ans: Iterating through a string Using List Comprehension: \n",
    "    h_letters = [ letter for letter in 'human' ]\n",
    "print( h_letters)\n",
    "\n",
    "Conditionals in List Comprehension:\n",
    "number_list = [ x for x in range(20) if x % 2 == 0]\n",
    "print(number_list)\n",
    "\n",
    "\n",
    "Nested IF with List Comprehension:\n",
    "num_list = [y for y in range(100) if y % 2 == 0 if y % 5 == 0]\n",
    "print(num_list)\n",
    "\n",
    "\n",
    "if...else With List Comprehension: \n",
    "obj = [\"Even\" if i%2==0 else \"Odd\" for i in range(10)]\n",
    "print(obj)"
   ]
  },
  {
   "cell_type": "markdown",
   "id": "8ee1df49",
   "metadata": {},
   "source": [
    "<b>Q7. From the command line, how do you get support with a user-written Python programme? Is this possible from inside IDLE?</b>"
   ]
  },
  {
   "cell_type": "code",
   "execution_count": null,
   "id": "2b5fb272",
   "metadata": {},
   "outputs": [],
   "source": [
    "Ans: Reads the command you enter\n",
    "Evaluates and executes the command\n",
    "Prints the output (if any) to the console\n",
    "Loops back and repeats the process\n"
   ]
  },
  {
   "cell_type": "markdown",
   "id": "f683d06c",
   "metadata": {},
   "source": [
    "<b>Q8. Functions are said to be “first-class objects” in Python but not in most other languages, such as C++ or Java. What can you do in Python with a function (callable object) that you can't do in C or C++?</b>"
   ]
  },
  {
   "cell_type": "markdown",
   "id": "aff8a694",
   "metadata": {},
   "source": [
    "Ans: A first class object is an entity that can be dynamically created, destroyed, passed to a function, returned as a value, and have all the rights as other variables in the programming language have.\n",
    "\n",
    "Depending on the language, this can imply:\n",
    "\n",
    "being expressible as an anonymous literal value\n",
    "being storable in variables\n",
    "being storable in data structures\n",
    "having an intrinsic identity (independent of any given name)\n",
    "being comparable for equality with other entities\n",
    "being passable as a parameter to a procedure/function\n",
    "being returnable as the result of a procedure/function\n",
    "being constructible at runtime\n",
    "being printable\n",
    "being readable\n",
    "being transmissible among distributed processes\n",
    "being storable outside running processes\n"
   ]
  },
  {
   "cell_type": "markdown",
   "id": "06462790",
   "metadata": {},
   "source": [
    "<b>Q9. How do you distinguish between a wrapper, a wrapped feature, and a decorator?</b>"
   ]
  },
  {
   "cell_type": "markdown",
   "id": "4ed7a303",
   "metadata": {},
   "source": [
    "Ans: \n",
    "Decorator:\n",
    "Allows objects to be composed/add capabilities by wrapping them with a class with the same interface\n",
    "\n",
    "Adapter:\n",
    "Allows you to wrap an object without a known interface implementation so it adheres to an interface. The point is to \"translate\" one interface into another.\n",
    "\n",
    "Wrapper:\n",
    "Never heard of this as a design pattern, but I suppose it's just a common name for the above\n",
    "\n",
    "The example you specify I would categorize as a decorator: The CacheRepository decorates an IRepository to add caching capabilities.\n",
    "\n"
   ]
  },
  {
   "cell_type": "markdown",
   "id": "7ee868f7",
   "metadata": {},
   "source": [
    "<b>Q10. If a function is a generator function, what does it return?</b>"
   ]
  },
  {
   "cell_type": "markdown",
   "id": "c4949286",
   "metadata": {},
   "source": [
    "Ans: The generator function cannot include the return keyword. If you include it, then it will terminate the function. The difference between yield and return is that yield returns a value and pauses the execution while maintaining the internal states, \n",
    "whereas the return statement returns a value and terminates the execution of the function.\n",
    "\n",
    "def get_sequence_upto(x):\n",
    "    for i in range(x):\n",
    "        yield i\n",
    "        \n",
    "As you can see above, the get_sequence_upto function uses the yield keyword. The generator is called just like a normal function. However, its execution is paused on encountering the yield keyword. This sends the first value of the iterator stream to the calling environment. \n",
    "However, local variables and their states are saved internally.\n"
   ]
  },
  {
   "cell_type": "markdown",
   "id": "73ff430d",
   "metadata": {},
   "source": [
    "<b>Q11. What is the one improvement that must be made to a function in order for it to become a generator function in the Python language?</b>"
   ]
  },
  {
   "cell_type": "markdown",
   "id": "44e8160c",
   "metadata": {},
   "source": [
    "Ans: A generator is simply a function which returns an object on which you can call next, such that for every call it returns some value, until it raises a StopIteration exception, signaling that all values have been generated. Such an object is called an iterator.\n",
    "\n",
    "Normal functions return a single value using return, just like in Java. In Python, however, there is an alternative, called yield. Using yield anywhere in a function makes it a generator. \n"
   ]
  },
  {
   "cell_type": "markdown",
   "id": "aa2dbcae",
   "metadata": {},
   "source": [
    "<b>Q12. Identify at least one benefit of generators.</b>"
   ]
  },
  {
   "cell_type": "markdown",
   "id": "bbd69e26",
   "metadata": {},
   "source": [
    "Ans: \n",
    "Easy to Implement\n",
    "Generators can be implemented in a clear and concise way as compared to their iterator class counterpart. \n",
    "Following is an example to implement a sequence of power of 2 using an iterator class.\n",
    "\n",
    "class PowTwo:\n",
    "    def __init__(self, max=0):\n",
    "        self.n = 0\n",
    "        self.max = max\n",
    "\n",
    "    def __iter__(self):\n",
    "        return self\n",
    "\n",
    "    def __next__(self):\n",
    "        if self.n > self.max:\n",
    "            raise StopIteration\n",
    "\n",
    "        result = 2 ** self.n\n",
    "        self.n += 1\n",
    "        return result\n",
    "The above program was lengthy and confusing. Now, let's do the same using a generator function.\n",
    "\n",
    "def PowTwoGen(max=0):\n",
    "    n = 0\n",
    "    while n < max:\n",
    "        yield 2 ** n\n",
    "        n += 1\n",
    "Since generators keep track of details automatically, the implementation was concise and much cleaner.\n"
   ]
  },
  {
   "cell_type": "markdown",
   "id": "83be3d8e",
   "metadata": {},
   "source": [
    "<b></b>"
   ]
  },
  {
   "cell_type": "markdown",
   "id": "c222c059",
   "metadata": {},
   "source": [
    "<b></b>"
   ]
  },
  {
   "cell_type": "markdown",
   "id": "c6bfd772",
   "metadata": {},
   "source": [
    "<b></b>"
   ]
  },
  {
   "cell_type": "markdown",
   "id": "b21c0050",
   "metadata": {},
   "source": [
    "<b></b>"
   ]
  },
  {
   "cell_type": "markdown",
   "id": "084ede4d",
   "metadata": {},
   "source": [
    "<b></b>"
   ]
  }
 ],
 "metadata": {
  "kernelspec": {
   "display_name": "Python 3",
   "language": "python",
   "name": "python3"
  },
  "language_info": {
   "codemirror_mode": {
    "name": "ipython",
    "version": 3
   },
   "file_extension": ".py",
   "mimetype": "text/x-python",
   "name": "python",
   "nbconvert_exporter": "python",
   "pygments_lexer": "ipython3",
   "version": "3.8.8"
  }
 },
 "nbformat": 4,
 "nbformat_minor": 5
}
