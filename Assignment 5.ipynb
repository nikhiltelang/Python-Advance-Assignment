{
 "cells": [
  {
   "cell_type": "markdown",
   "metadata": {},
   "source": [
    "<b>Q1. What is the meaning of multiple inheritance?</b>"
   ]
  },
  {
   "cell_type": "code",
   "execution_count": null,
   "metadata": {},
   "outputs": [],
   "source": [
    "Ans:Multiple inheritance is a feature of some object-oriented computer programming languages \n",
    "    in which an object or class can inherit characteristics and features from more than one parent object or parent class.\n",
    "    This can be addressed in various ways, including using virtual inheritance.\n"
   ]
  },
  {
   "cell_type": "markdown",
   "metadata": {},
   "source": [
    "<b>Q2. What is the concept of delegation?</b>"
   ]
  },
  {
   "cell_type": "code",
   "execution_count": null,
   "metadata": {},
   "outputs": [],
   "source": [
    "Ans: Delegation is an object oriented technique (also called a design pattern). "
   ]
  },
  {
   "cell_type": "markdown",
   "metadata": {},
   "source": [
    "<b>Q3. What is the concept of composition?</b>"
   ]
  },
  {
   "cell_type": "code",
   "execution_count": null,
   "metadata": {},
   "outputs": [],
   "source": [
    "Ans:Composition is a concept that models a has a relationship. \n",
    "    It enables creating complex types by combining objects of other types. \n",
    "    This means that a class Composite can contain an object of another class Component . \n",
    "    This relationship means that a Composite has a Component ."
   ]
  },
  {
   "cell_type": "markdown",
   "metadata": {},
   "source": [
    "<b>Q4. What are bound methods and how do we use them?</b>"
   ]
  },
  {
   "cell_type": "code",
   "execution_count": null,
   "metadata": {},
   "outputs": [],
   "source": [
    "Ans: A bound method is the one which is dependent on the instance of the class as the first argument.\n",
    "    It passes the instance as the first argument which is used to access the variables and functions. \n",
    "    In Python 3 and newer versions of python, all functions in the class are by default bound methods."
   ]
  },
  {
   "cell_type": "markdown",
   "metadata": {},
   "source": [
    "<b>Q5. What is the purpose of pseudoprivate attributes?</b>"
   ]
  },
  {
   "cell_type": "code",
   "execution_count": null,
   "metadata": {},
   "outputs": [],
   "source": [
    "Ans: n Python, all instance attributes wind up in the single instance object at the bottom of the class tree. \n",
    "    This is different from the C++ model, where each class gets its own space for data members it defines"
   ]
  }
 ],
 "metadata": {
  "kernelspec": {
   "display_name": "Python 3 (ipykernel)",
   "language": "python",
   "name": "python3"
  },
  "language_info": {
   "codemirror_mode": {
    "name": "ipython",
    "version": 3
   },
   "file_extension": ".py",
   "mimetype": "text/x-python",
   "name": "python",
   "nbconvert_exporter": "python",
   "pygments_lexer": "ipython3",
   "version": "3.9.2"
  }
 },
 "nbformat": 4,
 "nbformat_minor": 4
}
