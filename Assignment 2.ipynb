{
 "cells": [
  {
   "cell_type": "markdown",
   "metadata": {},
   "source": [
    "<b>Q1. What is the relationship between classes and modules?</b>"
   ]
  },
  {
   "cell_type": "code",
   "execution_count": null,
   "metadata": {},
   "outputs": [],
   "source": [
    "Ans:Basically, a class can be instantiated but a module cannot. \n",
    "    A module will never be anything other than a library of methods. \n",
    "    A class can be so much more -\n",
    "    it can hold its state (by keeping track of instance variables) and be duplicated as many times as you want."
   ]
  },
  {
   "cell_type": "markdown",
   "metadata": {},
   "source": [
    "<b>Q2. How do you make instances and classes?</b>"
   ]
  },
  {
   "cell_type": "code",
   "execution_count": null,
   "metadata": {},
   "outputs": [],
   "source": [
    "Ans:To create instances of a class, call the class using class name and pass in whatever arguments \n",
    "its __init__ method accepts."
   ]
  },
  {
   "cell_type": "markdown",
   "metadata": {},
   "source": [
    "<b>Q3. Where and how should be class attributes created?</b>"
   ]
  },
  {
   "cell_type": "code",
   "execution_count": null,
   "metadata": {},
   "outputs": [],
   "source": [
    "Ans: They will be shared by all the instances of the class. Therefore they have the same value for every instance.\n",
    "    We define class attributes outside all the methods, usually they are placed at the top, right below the class header.\n"
   ]
  },
  {
   "cell_type": "markdown",
   "metadata": {},
   "source": [
    "<b>Q4. Where and how are instance attributes created?</b>"
   ]
  },
  {
   "cell_type": "code",
   "execution_count": null,
   "metadata": {},
   "outputs": [],
   "source": [
    "Ans:\n",
    "    An instance attribute is a Python variable belonging to one, and only one, object. This variable is only accessible in the\n",
    "    scope of this object and it is defined inside the constructor function, __init__(self,..) of the class.\n"
   ]
  },
  {
   "cell_type": "markdown",
   "metadata": {},
   "source": [
    "<b>Q5. What does the term \"self\" in a Python class mean?</b>"
   ]
  },
  {
   "cell_type": "code",
   "execution_count": null,
   "metadata": {},
   "outputs": [],
   "source": [
    "Ans: \n",
    "self represents the instance of the class. \n",
    "By using the “self” keyword we can access the attributes and methods of the class in python."
   ]
  },
  {
   "cell_type": "markdown",
   "metadata": {},
   "source": [
    "<b>Q6. How does a Python class handle operator overloading?</b>"
   ]
  },
  {
   "cell_type": "code",
   "execution_count": null,
   "metadata": {},
   "outputs": [],
   "source": [
    "Ans: Python operators work for built-in classes.\n",
    "    For example, the + operator will perform arithmetic addition on two numbers, merge two lists, or concatenate two strings.\n",
    "    This feature in Python that\n",
    "    allows the same operator to have different meaning according to the context is called operator overloading.\n"
   ]
  },
  {
   "cell_type": "markdown",
   "metadata": {},
   "source": [
    "<b>Q7. When do you consider allowing operator overloading of your classes?</b>"
   ]
  },
  {
   "cell_type": "code",
   "execution_count": null,
   "metadata": {},
   "outputs": [],
   "source": [
    "Ans: when the two methods uses same resources for performing the operation foe example '+' operator is used to \n",
    "    concatination as well as addition has used two diffrent data types operation string and integer."
   ]
  },
  {
   "cell_type": "markdown",
   "metadata": {},
   "source": [
    "<b>Q8. What is the most popular form of operator overloading?</b>"
   ]
  },
  {
   "cell_type": "code",
   "execution_count": null,
   "metadata": {},
   "outputs": [],
   "source": [
    "Ans: Overloading binary + operator in Python :​​ When we use + operator, \n",
    "        the magic method __add__ is automatically invoked in which the operation for + operator is defined. \n",
    "        There by changing this magic method's code, we can give extra meaning to the + operator.\n"
   ]
  },
  {
   "cell_type": "markdown",
   "metadata": {},
   "source": [
    "<b>Q9. What are the two most important concepts to grasp in order to comprehend Python OOP code?\n",
    "</b>"
   ]
  },
  {
   "cell_type": "code",
   "execution_count": null,
   "metadata": {},
   "outputs": [],
   "source": [
    "Ans: Class & object"
   ]
  }
 ],
 "metadata": {
  "kernelspec": {
   "display_name": "Python 3 (ipykernel)",
   "language": "python",
   "name": "python3"
  },
  "language_info": {
   "codemirror_mode": {
    "name": "ipython",
    "version": 3
   },
   "file_extension": ".py",
   "mimetype": "text/x-python",
   "name": "python",
   "nbconvert_exporter": "python",
   "pygments_lexer": "ipython3",
   "version": "3.9.2"
  }
 },
 "nbformat": 4,
 "nbformat_minor": 4
}
