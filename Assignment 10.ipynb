{
 "cells": [
  {
   "cell_type": "markdown",
   "id": "4ff9b053",
   "metadata": {},
   "source": [
    "<b>Q1. What is the difference between __getattr__ and __getattribute__?</b>"
   ]
  },
  {
   "cell_type": "markdown",
   "id": "844df61b",
   "metadata": {},
   "source": [
    "Ans:  key difference between __getattr__ and __getattribute__ is that __getattr__ is only invoked if the attribute wasn't found the usual ways.\n",
    "    __getattribute__ is invoked before looking at the actual attributes on the object, \n",
    "    and so can be tricky to implement correctly. You can end up in infinite recursions very easily.\n"
   ]
  },
  {
   "cell_type": "markdown",
   "id": "9beeabc9",
   "metadata": {},
   "source": [
    "<b>Q2. What is the difference between properties and descriptors?</b>"
   ]
  },
  {
   "cell_type": "markdown",
   "id": "ffb9d379",
   "metadata": {},
   "source": [
    "Ans: descriptors are a low-level mechanism that lets you hook into an object's attributes being accessed. \n",
    "    Properties are a high-level application of this; that is, properties are implemented using descriptors\n"
   ]
  },
  {
   "cell_type": "markdown",
   "id": "1224d41e",
   "metadata": {},
   "source": [
    "<b>Q3. What are the key differences in functionality between __getattr__ and __getattribute__, as well as properties and descriptors?</b>"
   ]
  },
  {
   "cell_type": "markdown",
   "id": "440d181c",
   "metadata": {},
   "source": [
    "Ans:\n",
    "getattribute: Is used to retrieve an attribute from an instance. It captures every attempt to access an instance attribute by using dot notation or getattr() built-in function.\n",
    "getattr: Is executed as the last resource when attribute is not found in an object. You can choose to return a default value or to raise AttributeError.\n"
   ]
  }
 ],
 "metadata": {
  "kernelspec": {
   "display_name": "Python 3",
   "language": "python",
   "name": "python3"
  },
  "language_info": {
   "codemirror_mode": {
    "name": "ipython",
    "version": 3
   },
   "file_extension": ".py",
   "mimetype": "text/x-python",
   "name": "python",
   "nbconvert_exporter": "python",
   "pygments_lexer": "ipython3",
   "version": "3.8.8"
  }
 },
 "nbformat": 4,
 "nbformat_minor": 5
}
