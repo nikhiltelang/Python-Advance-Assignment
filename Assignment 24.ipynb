{
 "cells": [
  {
   "cell_type": "markdown",
   "id": "115c7fc2",
   "metadata": {},
   "source": [
    "<b>Q1. Is it permissible to use several import statements to import the same module? What would the goal be? Can you think of a situation where it would be beneficial?\n",
    "</b>"
   ]
  },
  {
   "cell_type": "markdown",
   "id": "ce8e3937",
   "metadata": {},
   "source": [
    "Ans: In Python, you use the import keyword to make code in one module available in another. Imports in Python are important for structuring your code effectively. Using imports properly will \n",
    "make you more productive, allowing you to reuse code while keeping your projects maintainable."
   ]
  },
  {
   "cell_type": "markdown",
   "id": "357452ec",
   "metadata": {},
   "source": [
    "<b>Q2. What are some of a module's characteristics? (Name at least one.)</b>"
   ]
  },
  {
   "cell_type": "markdown",
   "id": "950d62d8",
   "metadata": {},
   "source": [
    "Ans: A module is a file containing Python definitions and statements. A module can define functions, classes, and variables. \n",
    "A module can also include runnable code. Grouping related code into a module makes the code easier to understand and use."
   ]
  },
  {
   "cell_type": "markdown",
   "id": "b68e305e",
   "metadata": {},
   "source": [
    "<b>Q3. Circular importing, such as when two modules import each other, can lead to dependencies and bugs that aren't visible. How can you go about creating a program that avoids mutual importing?\n",
    "</b>"
   ]
  },
  {
   "cell_type": "markdown",
   "id": "8e3226d0",
   "metadata": {},
   "source": [
    "Ans: Imports are pretty straightforward really. Just remember the following:\n",
    "\n",
    "'import' and 'from xxx import yyy' are executable statements. They execute when the running program reaches that line.\n",
    "\n",
    "If a module is not in sys.modules, then an import creates the new module entry in sys.modules and then executes the code in the module. It does not return control to the calling module until the execution has completed.\n",
    "\n",
    "If a module does exist in sys.modules then an import simply returns that module whether or not it has completed executing. That is the reason why cyclic imports may return modules which appear to be partly empty.\n",
    "\n",
    "Finally, the executing script runs in a module named __main__, importing the script under its own name will create a new module unrelated to __main__.\n",
    "\n",
    "Take that lot together and you shouldn't get any surprises when importing modules.\n"
   ]
  },
  {
   "cell_type": "markdown",
   "id": "503154d3",
   "metadata": {},
   "source": [
    "<b>Q4. Why is  _ _all_ _ in Python?</b>"
   ]
  },
  {
   "cell_type": "markdown",
   "id": "89fed541",
   "metadata": {},
   "source": [
    "Ans: Python __all__ is a list of public objects of that module, as interpreted by import *. The __all__ overrides the default of hiding everything that begins with an underscore. The __all__ in Python is a list of strings defining what symbols in a module will be exported when from <module> import * is used on the module."
   ]
  },
  {
   "cell_type": "markdown",
   "id": "e7eb28cf",
   "metadata": {},
   "source": [
    "<b>Q5. In what situation is it useful to refer to the _ _name_ _ attribute or the string '_ _main_ _'?\n",
    "</b>"
   ]
  },
  {
   "cell_type": "markdown",
   "id": "17314598",
   "metadata": {},
   "source": [
    "Ans:If the python interpreter is running that module (the source file) as the main program, it sets the special __name__ variable to have a value “__main__”. If this file is being imported from another module, __name__ will be set to the module’s name. Module’s name is available as value to __name__ global variable. \n",
    "\n",
    "A module is a file containing Python definitions and statements. The file name is the module name with the suffix .py appended.\n"
   ]
  },
  {
   "cell_type": "markdown",
   "id": "e63dcd2a",
   "metadata": {},
   "source": [
    "<b>Q6. What are some of the benefits of attaching a program counter to the RPN interpreter application, which interprets an RPN script line by line?\n",
    "</b>"
   ]
  },
  {
   "cell_type": "markdown",
   "id": "027f92b2",
   "metadata": {},
   "source": [
    "Ans: Reverse Polish notation (RPN), also known as Polish postfix notation or simply postfix notation, is a mathematical notation in which operators follow their operands, in contrast to Polish notation (PN), in which operators precede their operands. It does not need any parentheses as long as each operator has a fixed number of operands."
   ]
  }
 ],
 "metadata": {
  "kernelspec": {
   "display_name": "Python 3",
   "language": "python",
   "name": "python3"
  },
  "language_info": {
   "codemirror_mode": {
    "name": "ipython",
    "version": 3
   },
   "file_extension": ".py",
   "mimetype": "text/x-python",
   "name": "python",
   "nbconvert_exporter": "python",
   "pygments_lexer": "ipython3",
   "version": "3.8.8"
  }
 },
 "nbformat": 4,
 "nbformat_minor": 5
}
