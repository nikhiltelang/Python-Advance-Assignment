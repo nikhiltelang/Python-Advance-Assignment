{
 "cells": [
  {
   "cell_type": "markdown",
   "id": "100dec11",
   "metadata": {},
   "source": [
    "<b>1. Compare and contrast the float and Decimal classes' benefits and drawbacks.</b>"
   ]
  },
  {
   "cell_type": "markdown",
   "id": "309a52c6",
   "metadata": {},
   "source": [
    "<b>2. Decimal('1.200') and Decimal('1.2') are two objects to consider. In what sense are these the same object? Are these just two ways of representing the exact same value, or do they correspond to different internal states?\n",
    "</b>"
   ]
  },
  {
   "cell_type": "markdown",
   "id": "401dcecf",
   "metadata": {},
   "source": [
    "<b>3. What happens if the equality of Decimal('1.200') and Decimal('1.2') is checked?\n",
    "</b>"
   ]
  },
  {
   "cell_type": "markdown",
   "id": "afe205f9",
   "metadata": {},
   "source": [
    "<b>4. Why is it preferable to start a Decimal object with a string rather than a floating-point value?\n",
    "</b>"
   ]
  },
  {
   "cell_type": "markdown",
   "id": "0b844c17",
   "metadata": {},
   "source": [
    "<b>5. In an arithmetic phrase, how simple is it to combine Decimal objects with integers?</b>"
   ]
  },
  {
   "cell_type": "markdown",
   "id": "181ad578",
   "metadata": {},
   "source": [
    "<b>6. Can Decimal objects and floating-point values be combined easily?</b>"
   ]
  },
  {
   "cell_type": "markdown",
   "id": "474705e8",
   "metadata": {},
   "source": [
    "<b>7. Using the Fraction class but not the Decimal class, give an example of a quantity that can be expressed with absolute precision.</b>"
   ]
  },
  {
   "cell_type": "markdown",
   "id": "83bc66a7",
   "metadata": {},
   "source": [
    "<b>8. Describe a quantity that can be accurately expressed by the Decimal or Fraction classes but not by a floating-point value.</b>"
   ]
  },
  {
   "cell_type": "markdown",
   "id": "6ed44623",
   "metadata": {},
   "source": [
    "<b>Q9.Consider the following two fraction objects: Fraction(1, 2) and Fraction(1, 2). (5, 10). Is the internal state of these two objects the same? Why do you think that is?</b>"
   ]
  },
  {
   "cell_type": "markdown",
   "id": "0ffd0bc4",
   "metadata": {},
   "source": [
    "<b>Q10. How do the Fraction class and the integer type (int) relate to each other? Containment or inheritance?</b>"
   ]
  },
  {
   "cell_type": "markdown",
   "id": "282ab968",
   "metadata": {},
   "source": [
    "<b></b>"
   ]
  }
 ],
 "metadata": {
  "kernelspec": {
   "display_name": "Python 3",
   "language": "python",
   "name": "python3"
  },
  "language_info": {
   "codemirror_mode": {
    "name": "ipython",
    "version": 3
   },
   "file_extension": ".py",
   "mimetype": "text/x-python",
   "name": "python",
   "nbconvert_exporter": "python",
   "pygments_lexer": "ipython3",
   "version": "3.8.8"
  }
 },
 "nbformat": 4,
 "nbformat_minor": 5
}
