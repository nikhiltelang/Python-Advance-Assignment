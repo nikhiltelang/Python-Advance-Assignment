{
 "cells": [
  {
   "cell_type": "markdown",
   "id": "9eedfa8f",
   "metadata": {},
   "source": [
    "<b>Q1. What is a probability distribution, exactly? If the values are meant to be random, how can you predict them at all?</b>"
   ]
  },
  {
   "cell_type": "markdown",
   "id": "95f211e3",
   "metadata": {},
   "source": [
    "Ans: Probability is about interpreting and understanding the random events of life, and since we live in absolute randomness (even if we try to believe we don’t), its usefulness becomes quite clear. Probability is the long-term chance that a certain outcome will occur from some random process. It basically tells you how often different kinds of events will happen.\n",
    "Some real life examples of the use of probabilities are:\n",
    "Finance: By estimating the chance that a given financial asset will fall between or within a specific range, it’s possible to develop trading strategies to capture that predicted outcome.\n",
    "Weather forecast: Meteorologists can’t predict exactly what the weather will be, so they use tools and instruments to determine the likelihood that it will rain, snow or hail. They also examine historical data bases to estimate high and low temperatures and probable weather patterns for that day or week.\n",
    "Insurance: Probability plays an important role in analyzing insurance policies to determine which plans are best for customers and what deductible amounts they need.\n",
    "Sports: Athletes and coaches use probability to determine the best sports strategies for games and competitions. Companies like BWin have made a business out of this and you can even bet using different strategies.\n",
    "Advertisement: Probability is used to estimate potential customers that will be more likely to react positively to specific campaigns, based on their consumption patterns.\n",
    "Numerically speaking, a probability is a number that ranges from 0 (meaning there is no way an event is going to happen) to 1 (which means the event will happen for sure), and if you take all the possible outcomes and add them up, you sum to 1. The bigger the value of the probability, the more likely the event is to occur.\n",
    "So for example, you’d say that the probability of rain tomorrow is 40% (stated as “P(rain)=0,4”), or the probability of a car theft in a particular region is 2% (defined as “P(car theft)=0,02”). In the first case you’re interested in the variable “rain”, and in the second in the variable “car theft”. These variables, as well as any other that is a result of a random process, are referred to as “random variables”."
   ]
  },
  {
   "cell_type": "markdown",
   "id": "d1d6248e",
   "metadata": {},
   "source": [
    "<b>Q2. Is there a distinction between true random numbers and pseudo-random numbers, if there is one? Why are the latter considered “good enough”?</b>"
   ]
  },
  {
   "cell_type": "markdown",
   "id": "9a9636ba",
   "metadata": {},
   "source": [
    "\n",
    "The difference between true random number generators(TRNGs) and pseudo-random number generators(PRNGs) is that TRNGs use an unpredictable physical means to generate numbers (like atmospheric noise), and PRNGs use mathematical algorithms (completely computer-generated).\n",
    "Pseudo-RNG's are sets of algorithms (i.e. logical instructions for by a computer program) that utilize mathematical formulas to produce a certain sequence of numbers that will appear random, or at least will have the effect of randomness. Other RNG's use pre-calculated tables instead of mathematical formulas, but either way table or formula, the objective is still the same.\n",
    "A lot of research has been done (and is still ongoing) on RNG's insomuch that our modern algorithms used for Pseudo-RNG's produce number sequences that do exactly mimic truly random sequences. But that may be the outcome of today's research there is still room for improvement since the results of Pseudo-RNG's are really \"pseudo\".\n",
    "Comparing the results of a Pseudo-RNG with that from a True-RNG will prove useful. If you list down the results of a Pseudo-RNG mimicking dice rolls the numbers will really appear as if they are random. But statistical analysis will prove that the numbers produced by a Pseudo-RNG is not really random but is rather predetermined. Thus its results can be measured and standardized, and, we can say, controlled.\n",
    "True-RNG's behave differently since the results are truly random and unpredictable. If we try to get a computer to produce a really random sequence of numbers then the computer must base its numbers on a naturally occurring physical phenomenon, which may include the radioactive decay of isotopes, static in the airwaves, and the waves of the sea. True-RNG's will not really be cost-efficient if you compare it to Pseudo-RNG's. True-RNG's will be subject to wear and tear since all things natural will really be subject to entropy. A Pseudo-RNG will not be subject to such physical phenomena.\n",
    "Another efficiency of a Pseudo-RNG is that you can reproduce the same sequence of numbers in another time by simply knowing the starting point of the sequence (thus it is also periodic and the sequence will repeat itself in due time). This better facilitates inspections done by casino control boards. But you can be sure that the sequence of numbers produced by a Pseudo-RNG, though periodic, the time to reproduce the same sequence will eventually take a really long time that unless you acquire the actual algorithms, the correct sequence will be very difficult (almost impossible) to crack.\n",
    "Many online casinos have settled for Pseudo-RNG's for its cost-efficiency, periodicity, and efficiency. These are good reasons to choose this type of random number generator, though a True-RNG will also have its own benefits as well."
   ]
  },
  {
   "cell_type": "markdown",
   "id": "3b2b7516",
   "metadata": {},
   "source": [
    "<b>Q3. What are the two main factors that influence the behaviour of a \"normal\" probability distribution?\n",
    "</b>"
   ]
  },
  {
   "cell_type": "markdown",
   "id": "2cd62610",
   "metadata": {},
   "source": [
    "Ans: The normal distribution is a continuous probability distribution that is symmetrical on both sides of the mean, so the right side of the center is a mirror image of the left side.\n",
    "\n",
    "The area under the normal distribution curve represents probability and the total area under the curve sums to one.\n",
    "\n",
    "Most of the continuous data values in a normal distribution tend to cluster around the mean, and the further a value is from the mean, the less likely it is to occur. The tails are asymptotic, which means that they approach but never quite meet the horizon (i.e. x-axis).\n",
    "\n",
    "For a perfectly normal distribution the mean, median and mode will be the same value, visually represented by the peak of the curve.\n",
    "The normal distribution is often called the bell curve because the graph of its probability density looks like a bell. It is also known as called Gaussian distribution, after the German mathematician Carl Gauss who first described it.\n",
    "A normal distribution is determined by two parameters the mean and the variance. A normal distribution with a mean of 0 and a standard deviation of 1 is called a standard normal distribution."
   ]
  },
  {
   "cell_type": "markdown",
   "id": "db20c7e3",
   "metadata": {},
   "source": [
    "<b>Q4. Provide a real-life example of a normal distribution.</b>"
   ]
  },
  {
   "cell_type": "markdown",
   "id": "b8eda4ee",
   "metadata": {},
   "source": [
    "Ans:\n",
    "\n",
    " 1. Height\n",
    "Height of the population is the example of normal distribution. Most of the people in a specific population are of average height. The number of people taller and shorter than the average height people is almost equal, and a very small number of people are either extremely tall or extremely short. However, height is not a single characteristic, several genetic and environmental factors influence height. Therefore, it follows the normal distribution.\n",
    "\n",
    "2. Rolling A Dice\n",
    "A fair rolling of dice is also a good example of normal distribution. In an experiment, it has been found that when a dice is rolled 100 times, chances to get ‘1’ are 15-18% and if we roll the dice 1000 times, the chances to get ‘1’ is, again, the same, which averages to 16.7% (1/6). If we roll two dices simultaneously, there are 36 possible combinations. The probability of rolling ‘1’ (with six possible combinations) again averages to around 16.7%, i.e., (6/36). More the number of dices more elaborate will be the normal distribution graph.\n",
    "\n",
    "3. Tossing A Coin\n",
    "Flipping a coin is one of the oldest methods for settling disputes. We all have flipped a coin before a match or game. The perceived fairness in flipping a coin lies in the fact that it has equal chances to come up with either result. The chances of getting head are 1/2, and the same is for tails. When we add both, it equals to one. If we toss coins multiple times, the sum of the probability of getting heads and tails will always remain 1.\n",
    "\n",
    "4. IQ\n",
    "In this scenario of increasing competition, most parents, as well as children, want to analyze the Intelligent Quotient level. Well, the IQ of a particular population is a normal distribution curve; where IQ of a majority of the people in the population lies in the normal range whereas the IQ of the rest of the population lies in the deviated range.\n",
    "\n",
    "5. Technical Stock Market\n",
    "Most of us have heard about the rise and fall in the prices of the shares in the stock market.\n",
    "\n",
    "our parents or in the news about falling and hiking in the price of the shares. These changes in the log values of Forex rates, price indices, and stock prices return often form a bell-shaped curve. For stock returns, the standard deviation is often called volatility. If returns are normally distributed, more than 99 percent of the returns are expected to fall within the deviations of the mean value. Such characteristics of the bell-shaped normal distribution allow analysts and investors to make statistical inferences about the expected return and risk of stocks.\n",
    "\n",
    "6. Income Distribution In Economy\n",
    "The income of a country lies in the hands of enduring politics and government. It depends upon them how they distribute the income among the rich and poor community. We all are well aware of the fact that the middle-class population is a bit higher than the rich and poor population. So, the wages of the middle-class population makes the mean in the normal distribution curve.\n"
   ]
  },
  {
   "cell_type": "markdown",
   "id": "47647d47",
   "metadata": {},
   "source": [
    "<b>Q5. In the short term, how can you expect a probability distribution to behave? What do you think will happen as the number of trials grows?\n",
    "</b>"
   ]
  },
  {
   "cell_type": "markdown",
   "id": "d1506b40",
   "metadata": {},
   "source": [
    "Ans: we start talking about probability theory, it’s helpful to spend a moment thinking about the relationship between probability and statistics. The two disciplines are closely related but they’re not identical. Probability theory is “the doctrine of chances”. It’s a branch of mathematics that tells you how often different kinds of events will happen. For example, all of these questions are things you can answer using probability theory:\n",
    "\n",
    "What are the chances of a fair coin coming up heads 10 times in a row?\n",
    "\n",
    "If I roll two six sided dice, how likely is it that I’ll roll two sixes?\n",
    "\n",
    "How likely is it that five cards drawn from a perfectly shuffled deck will all be hearts?\n",
    "\n",
    "What are the chances that I’ll win the lottery?\n"
   ]
  },
  {
   "cell_type": "markdown",
   "id": "f62eac5d",
   "metadata": {},
   "source": [
    "<b>Q6. What kind of object can be shuffled by using random.shuffle?</b>"
   ]
  },
  {
   "cell_type": "markdown",
   "id": "5053fa4c",
   "metadata": {},
   "source": [
    "Ans: random provides shuffle() that shuffles the original list in place, and sample() that returns a new list that is randomly shuffled. sample() can also be used for strings and tuples. If you want to sort in ascending or descending order or reverse instead of shuffling, see the following articles."
   ]
  },
  {
   "cell_type": "markdown",
   "id": "d4f914d0",
   "metadata": {},
   "source": [
    "<b>Q7. Describe the math package's general categories of functions.</b>"
   ]
  },
  {
   "cell_type": "markdown",
   "id": "fa49bbd6",
   "metadata": {},
   "source": [
    "Ans: Many to one function.\n",
    "One to one function.\n",
    "Onto function.\n",
    "One and onto function.\n",
    "Constant function.\n",
    "Identity function.\n",
    "Quadratic function.\n",
    "Polynomial function."
   ]
  },
  {
   "cell_type": "markdown",
   "id": "ed9fb79b",
   "metadata": {},
   "source": [
    "<b>Q8. What is the relationship between exponentiation and logarithms?</b>"
   ]
  },
  {
   "cell_type": "markdown",
   "id": "3e5f8ffe",
   "metadata": {},
   "source": [
    "Ans: Logarithms are the \"opposite\" of exponentials, just as subtraction is the opposite of addition \n",
    "and division is the opposite of multiplication. Logs \"undo\" exponentials. Technically speaking, logs are the inverses of exponentials. On the left-hand side above is the exponential statement \"y = bx\"."
   ]
  },
  {
   "cell_type": "markdown",
   "id": "24983c1d",
   "metadata": {},
   "source": [
    "<b>Q9. What are the three logarithmic functions that Python supports?</b>"
   ]
  },
  {
   "cell_type": "markdown",
   "id": "ed06b122",
   "metadata": {},
   "source": [
    "Ans: Variants of Python log() Functions\n",
    "log2(x)\n",
    "log(x, Base)\n",
    "log10(x)\n",
    "log1p(x)"
   ]
  },
  {
   "cell_type": "markdown",
   "id": "f1d83255",
   "metadata": {},
   "source": [
    "<b></b>"
   ]
  },
  {
   "cell_type": "markdown",
   "id": "bfb666c4",
   "metadata": {},
   "source": [
    "<b></b>"
   ]
  }
 ],
 "metadata": {
  "kernelspec": {
   "display_name": "Python 3",
   "language": "python",
   "name": "python3"
  },
  "language_info": {
   "codemirror_mode": {
    "name": "ipython",
    "version": 3
   },
   "file_extension": ".py",
   "mimetype": "text/x-python",
   "name": "python",
   "nbconvert_exporter": "python",
   "pygments_lexer": "ipython3",
   "version": "3.8.8"
  }
 },
 "nbformat": 4,
 "nbformat_minor": 5
}
