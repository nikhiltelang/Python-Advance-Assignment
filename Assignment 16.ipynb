{
 "cells": [
  {
   "cell_type": "markdown",
   "id": "5ee0033f",
   "metadata": {},
   "source": [
    "<b>Q1. What is the benefit of regular expressions?</b>"
   ]
  },
  {
   "cell_type": "markdown",
   "id": "60784af0",
   "metadata": {},
   "source": [
    "Ans: A Regular Expression is used for identifying a search pattern in a text string.\n",
    "    It also helps in finding out the correctness of the data and even operations such as finding,\n",
    "    replacing and formatting the data is possible using Regular Expressions.\n"
   ]
  },
  {
   "cell_type": "markdown",
   "id": "87309826",
   "metadata": {},
   "source": [
    "<b>Q2. Describe the difference between the effects of \"(ab)c+\" and \"a(bc)+.\" Which of these, if any, is the unqualified pattern \"abc+\"?</b>"
   ]
  },
  {
   "cell_type": "markdown",
   "id": "c43046a9",
   "metadata": {},
   "source": []
  },
  {
   "cell_type": "markdown",
   "id": "83905fc9",
   "metadata": {},
   "source": [
    "<b>Q3. How much do you need to use the following sentence while using regular expressions?</b>"
   ]
  },
  {
   "cell_type": "markdown",
   "id": "0f9bddc2",
   "metadata": {},
   "source": [
    "import re\n",
    "Ans: In Python, regular expressions are supported by the re module. That means that if you want to start using them in your Python scripts, you have to import this module with the help of import:\n",
    "The re library in Python provides several functions."
   ]
  },
  {
   "cell_type": "markdown",
   "id": "3d85e189",
   "metadata": {},
   "source": [
    "<b>Q4. Which characters have special significance in square brackets when expressing a range, and under what circumstances?\n",
    "</b>"
   ]
  },
  {
   "cell_type": "markdown",
   "id": "b038220c",
   "metadata": {},
   "source": [
    "Ans: \n",
    "Square Brackets\n",
    "Inside a character class, only the character class metacharacters (backslash, circumflex anchor and hyphen) have special meaning. You must use a backslash when you use character class metacharacters as literals inside a character class only.\n"
   ]
  },
  {
   "cell_type": "markdown",
   "id": "674037f3",
   "metadata": {},
   "source": [
    "<b>Q5. How does compiling a regular-expression object benefit you?</b>"
   ]
  },
  {
   "cell_type": "markdown",
   "id": "0a0d9786",
   "metadata": {},
   "source": [
    "Ans: The purpose of the compile method is to compile the regex pattern which will be used for matching later. It's advisable to compile regex when it'll be used several times in your program. Resaving the resulting regular expression object for reuse, which re. compile does, is more efficient\n"
   ]
  },
  {
   "cell_type": "markdown",
   "id": "68123b04",
   "metadata": {},
   "source": [
    "<b>Q6. What are some examples of how to use the match object returned by re.match and re.search?\n",
    "</b>"
   ]
  },
  {
   "cell_type": "markdown",
   "id": "0f517246",
   "metadata": {},
   "source": [
    "Ans: re.search() and re.match() both are functions of re module in python. These functions are very efficient and fast for searching in strings. The function searches for some substring in a string and returns a match object if found, else it returns none.\n"
   ]
  },
  {
   "cell_type": "markdown",
   "id": "1e7d28d6",
   "metadata": {},
   "source": [
    "<b>Q7. What is the difference between using a vertical bar (|) as an alteration and using square brackets as a character set?\n",
    "</b>"
   ]
  },
  {
   "cell_type": "code",
   "execution_count": null,
   "id": "d59eb26a",
   "metadata": {},
   "outputs": [],
   "source": []
  },
  {
   "cell_type": "markdown",
   "id": "6e94f794",
   "metadata": {},
   "source": [
    "<b>Q8. In regular-expression search patterns, why is it necessary to use the raw-string indicator (r)? In   replacement strings?\n",
    "</b>"
   ]
  },
  {
   "cell_type": "markdown",
   "id": "2a80078f",
   "metadata": {},
   "source": [
    "ans: Because regular expressions are frequently static strings, ... If you use a raw string and you pass in a pattern like r\"\\t\" to the RegEx"
   ]
  },
  {
   "cell_type": "markdown",
   "id": "52312b6a",
   "metadata": {},
   "source": [
    "<b></b>"
   ]
  },
  {
   "cell_type": "markdown",
   "id": "849a84f5",
   "metadata": {},
   "source": [
    "<b></b>"
   ]
  }
 ],
 "metadata": {
  "kernelspec": {
   "display_name": "Python 3",
   "language": "python",
   "name": "python3"
  },
  "language_info": {
   "codemirror_mode": {
    "name": "ipython",
    "version": 3
   },
   "file_extension": ".py",
   "mimetype": "text/x-python",
   "name": "python",
   "nbconvert_exporter": "python",
   "pygments_lexer": "ipython3",
   "version": "3.8.8"
  }
 },
 "nbformat": 4,
 "nbformat_minor": 5
}
