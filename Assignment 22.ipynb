{
 "cells": [
  {
   "cell_type": "markdown",
   "id": "404110aa",
   "metadata": {},
   "source": [
    "<b>Q1. What are the benefits of the built-in array package, if any?</b>"
   ]
  },
  {
   "cell_type": "markdown",
   "id": "825b5ee8",
   "metadata": {},
   "source": [
    "Ans: When we say “array” in Python, very likely we mean “list”. That’s true. Python List is a very powerful and flexible container type in Python. Although it is a little bit confusing, we always use List in Python just like the equivalent concept “Array” in most other programming languages.\n",
    "Or, you might say that Python does have “Array”, but it is from the NumPy library. That’s also true. When we are dealing with mathematical problems, typically multidimensional array or matrix, NumPy array is a must-have tool."
   ]
  },
  {
   "cell_type": "markdown",
   "id": "cea231ae",
   "metadata": {},
   "source": [
    "<b>Q2. What are some of the array package's limitations?</b>"
   ]
  },
  {
   "cell_type": "markdown",
   "id": "3ba4159c",
   "metadata": {},
   "source": [
    "Ans: Thus, no array can have values of two data types. While declaring an array, passing size of an array is compulsory, and the size must be a constant. Thus, there is either shortage or \n",
    "wastage of memory. Shifting is required for insertion or deletion of elements in an array."
   ]
  },
  {
   "cell_type": "markdown",
   "id": "f81989b0",
   "metadata": {},
   "source": [
    "<b>Q3. Describe the main differences between the array and numpy packages.</b>"
   ]
  },
  {
   "cell_type": "markdown",
   "id": "55034531",
   "metadata": {},
   "source": [
    "Ans: Whereas the powerful tool of numpy is Arrays. Pandas consume more memory. Numpy is memory efficient. Pandas has a better performance when number of rows is 500K or more."
   ]
  },
  {
   "cell_type": "markdown",
   "id": "47da61da",
   "metadata": {},
   "source": [
    "<b>Q4. Explain the distinctions between the empty, ones, and zeros functions.</b>"
   ]
  },
  {
   "cell_type": "markdown",
   "id": "846324cc",
   "metadata": {},
   "source": [
    "Ans: NumPy has its own free lists for small allocations, but they're not used for any allocation larger than 1024 bytes, and the arrays involved in these tests are way bigger than that. At such sizes, basically the only difference between numpy.empty and numpy.zeros is that empty uses malloc and zeros uses calloc.\n",
    "\n",
    "If you want to check this yourself, you can look at the code for empty and zeros in the NumPy source repository and follow the code paths down to the malloc and calloc calls."
   ]
  },
  {
   "cell_type": "markdown",
   "id": "de26fd96",
   "metadata": {},
   "source": [
    "<b>Q5. In the fromfunction function, which is used to construct new arrays, what is the role of the callable argument?</b>"
   ]
  },
  {
   "cell_type": "markdown",
   "id": "e81ce715",
   "metadata": {},
   "source": [
    "Ans: unction : [callable] The function is called with N parameters, where N is the rank of shape. Each parameter represents the coordinates of the array varying along a specific axis. shape : [(N, ) tuple of ints] Shape of the output array, which also determines the shape of the coordinate arrays passed to function."
   ]
  },
  {
   "cell_type": "markdown",
   "id": "17e1a356",
   "metadata": {},
   "source": [
    "<b>Q6. What happens when a numpy array is combined with a single-value operand (a scalar, such as an int or a floating-point value) through addition, as in the expression A + n?\n",
    "</b>"
   ]
  },
  {
   "cell_type": "code",
   "execution_count": null,
   "id": "d8920063",
   "metadata": {},
   "outputs": [],
   "source": [
    "Ans:"
   ]
  },
  {
   "cell_type": "markdown",
   "id": "af564c93",
   "metadata": {},
   "source": [
    "<b>Q7. Can array-to-scalar operations use combined operation-assign operators (such as += or *=)? What is the outcome?\n",
    "</b>"
   ]
  },
  {
   "cell_type": "code",
   "execution_count": null,
   "id": "a4e08c58",
   "metadata": {},
   "outputs": [],
   "source": [
    "Ans:"
   ]
  },
  {
   "cell_type": "markdown",
   "id": "b44669cb",
   "metadata": {},
   "source": [
    "<b>Q8. Does a numpy array contain fixed-length strings? What happens if you allocate a longer string to one of these arrays?\n",
    "</b>"
   ]
  },
  {
   "cell_type": "markdown",
   "id": "a7e9754e",
   "metadata": {},
   "source": [
    "Ans: The dtype of any numpy array containing string values is the maximum length of any string present in the array. Once set, it will only be able to store new string having length not more than the maximum length at the time of the creation."
   ]
  },
  {
   "cell_type": "markdown",
   "id": "fa08810c",
   "metadata": {},
   "source": [
    "<b>Q9. What happens when you combine two numpy arrays using an operation like addition (+) or multiplication (*)? What are the conditions for combining two numpy arrays?\n",
    "</b>"
   ]
  },
  {
   "cell_type": "markdown",
   "id": "5cb7f8d9",
   "metadata": {},
   "source": [
    "Ans: We have seen lots of operators in our Python tutorial. Of course, we have also seen many cases of operator overloading, e.g. \"+\" for the addition of numerical values and the concatenation of strings.\n",
    "\n",
    "\n",
    "42 + 5\n",
    "\n",
    "\n",
    "\"Python is one of the best \" + \"or maybe the best programming language!\"\n",
    "\n",
    "We will learn in this introduction that the operator signs are overloaded in Numpy as well, so that they can be used in a \"natural\" way.\n",
    "\n",
    "We can, for example, add a scalar to an ndarrays, i.e. the scalar will be added to every component. The same is possible for subtraction, division, multiplication and even for applying functions, like sine, cosine and so on, to an array.\n",
    "\n",
    "It is also extremely easy to use all these operators on two arrays as well."
   ]
  },
  {
   "cell_type": "markdown",
   "id": "fb19cd91",
   "metadata": {},
   "source": [
    "<b>Q10. What is the best way to use a Boolean array to mask another array?\n",
    "</b>"
   ]
  },
  {
   "cell_type": "markdown",
   "id": "cf30b0fe",
   "metadata": {},
   "source": [
    "Ans: Every element of the Array A is tested, if it is equal to 4. The results of these tests are the Boolean elements of the result array.\n",
    "\n",
    "Of course, it is also possible to check on \"<\", \"<=\", \">\" and \">=\".\n",
    "\n",
    "print(A < 5)\n",
    "[ True False  True  True  True False]\n",
    "It works also for higher dimensions:\n",
    "\n",
    "B = np.array([[42,56,89,65],\n",
    "              [99,88,42,12],\n",
    "              [55,42,17,18]])\n",
    "\n",
    "print(B>=42)\n",
    "[[ True  True  True  True]\n",
    " [ True  True  True False]\n",
    " [ True  True False False]]"
   ]
  },
  {
   "cell_type": "markdown",
   "id": "d6b3b162",
   "metadata": {},
   "source": [
    "<b>Q11. What are three different ways to get the standard deviation of a wide collection of data using both standard Python and its packages? Sort the three of them by how quickly they execute.\n",
    "</b>"
   ]
  },
  {
   "cell_type": "markdown",
   "id": "e9cf29f1",
   "metadata": {},
   "source": [
    "Ans: The population mean and standard deviation of a dataset can be calculated using Numpy library in Python. The following code shows the work:\n",
    "import numpy as np\n",
    "dataset=[13, 22, 26, 38, 36, 42,49, 50, 77, 81, 98, 110]\n",
    "print('Mean:', np.mean(dataset))\n",
    "print('Standard Deviation:', np.std(dataset))\n",
    "Mean:53.5\n",
    "Standard Deviation: 29.694275542602483\n",
    "Comparing two Datasets using Standard Deviation in Python\n",
    "Two datasets below show the high temperatures (in degrees Fahrenheit) for two cities during a 15-day period. We want to compare the mean and standard deviation for the temperatures of this two cities.\n",
    "City A= 36, 37, 36, 34, 39, 33, 30, 30, 32, 31, 31, 32, 32, 33, 35\n",
    "City B= 41, 35, 28, 29, 25, 36, 36, 32, 38, 40, 40, 34, 31, 28, 30\n",
    "The mean temperature of two cities are 33.4 for City A and 33.5 for City B, which are very close to each other. Both cities are somehow cold. However, the standard deviation of City A is 2.60 far less than City B with 4.83. This indicates that temperatures in City A are more consistent than City B. In other words, temperatures in City B varies more from day to day.\n",
    "To show this variation in a graph, I use error bar in Python. Error bars are useful to problem solvers because they show the confidence or precision in a set of calculated values. The mean and the standard deviation can be depicted using matlibplot library in Python. As the following figure shows, City A has less variation compared to City B.\n"
   ]
  },
  {
   "cell_type": "markdown",
   "id": "0826786c",
   "metadata": {},
   "source": [
    "<b>12. What is the dimensionality of a Boolean mask-generated array?</b>"
   ]
  },
  {
   "cell_type": "markdown",
   "id": "809cff14",
   "metadata": {},
   "source": [
    "Ans: \n",
    "As you can see, the masked array retains its original dimensions. You can access the underlying data and the mask via the \n",
    ".data and .mask attributes respectively. Most numpy functions will not take into account masked values,"
   ]
  },
  {
   "cell_type": "markdown",
   "id": "84bf43cf",
   "metadata": {},
   "source": [
    "<b></b>"
   ]
  },
  {
   "cell_type": "markdown",
   "id": "32ca3667",
   "metadata": {},
   "source": [
    "<b></b>"
   ]
  }
 ],
 "metadata": {
  "kernelspec": {
   "display_name": "Python 3",
   "language": "python",
   "name": "python3"
  },
  "language_info": {
   "codemirror_mode": {
    "name": "ipython",
    "version": 3
   },
   "file_extension": ".py",
   "mimetype": "text/x-python",
   "name": "python",
   "nbconvert_exporter": "python",
   "pygments_lexer": "ipython3",
   "version": "3.8.8"
  }
 },
 "nbformat": 4,
 "nbformat_minor": 5
}
