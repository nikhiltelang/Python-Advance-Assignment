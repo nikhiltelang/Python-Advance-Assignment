{
 "cells": [
  {
   "cell_type": "markdown",
   "id": "c8e3f6a4",
   "metadata": {},
   "source": [
    "<b>Q1. Explain the difference between greedy and non-greedy syntax with visual terms in as few words as possible. What is the bare minimum effort required to transform a greedy pattern into a non-greedy one? What characters or characters can you introduce or change?</b>"
   ]
  },
  {
   "cell_type": "markdown",
   "id": "a0c6e08f",
   "metadata": {},
   "source": [
    "Ans: \n",
    "Greediness refers to the quantity of times the regex engine will try to match certain set of characters. The way to state the \"greediness\" of a regex expression is using the special characters *, +, ? and {}.\n",
    "\n",
    "Consider\n",
    "\n",
    "str = \"asdfasdfbbbb\"\n",
    "r1 = /b/\n",
    "r2 = /(asdf)*/\n",
    "r3 = /b{3}/\n",
    "r4 = /.*/\n",
    "Matching these regex against str will result in:\n",
    "\n",
    "r1 matching \"asdfasdf b bbb\" (non-greedy, tries to match b just once)\n",
    "r2 matching \"asdfasdf bbbb\" (greedy, tries to match asdf as many times as possible)\n",
    "r3 matching \"asdfasdf bbb b\" (non-greedy, matches b exactly 3 times)\n",
    "r4 matching \"asdfasdfbbbb\" (ULTRA-greedy, matches almost any character as many times as possible)\n",
    "\n",
    "As regex are means to represent specific text patterns, it's not like greediness it's a matter of approach. You will sometimes need to match three times foo(/(foo){3}/) or infinite times bar(/(bar)*/).\n",
    "\n"
   ]
  },
  {
   "cell_type": "markdown",
   "id": "d09b6a1f",
   "metadata": {},
   "source": [
    "<b>Q2. When exactly does greedy versus non-greedy make a difference?  What if you're looking for a non-greedy match but the only one available is greedy?\n",
    "</b>"
   ]
  },
  {
   "cell_type": "markdown",
   "id": "9536d4e3",
   "metadata": {},
   "source": [
    "Ans: my $string = 'bcdabdcbabcd';\n",
    "\n",
    "$string =~ m/^(.*)ab/;\n",
    "\n",
    "print \"$1\\n\"; # prints: bcdabdcb\n",
    "\n",
    "The * is greedy; therefore, the .* portion of the regex will match as\n",
    "\n",
    "much as it can and still allow the remainder of the regex to match. In\n",
    "\n",
    "this case, it will match everything up to the last 'ab'. Actually,\n",
    "\n",
    "the .* will match right to the end of the string, and then start\n",
    "\n",
    "backing up until it can match an 'ab' (this is called backtracking).\n",
    "\n",
    "To make the quantifier non-greedy you simply follow it with a '?'\n",
    "\n",
    "symbol:\n",
    "\n",
    "my $string = 'bcdabdcbabcd';\n",
    "\n",
    "$string =~ m/^(.*?)ab/;\n",
    "\n",
    "print \"$1\\n\"; # prints: bcd\n",
    "\n",
    "In this case the .*? portion attempts to match the least amount of data\n",
    "\n",
    "while allowing the remainder of the regex to match. Here the regex\n",
    "\n",
    "engine will match the beginning of the string, then it will try to\n",
    "\n",
    "match zero of anything and check to see if the rest can match (that\n",
    "\n",
    "fails). Next, it will match the 'b' and then check again if the 'ab'\n",
    "\n",
    "can match (still fails). This continues until the the .*? has matched\n",
    "\n",
    "the first 3 characters and then the following 'ab' is matched.\n",
    "\n",
    "You can make any of the standard quantifiers that aren't exact non-\n",
    "\n",
    "greedy by appending a '?' symbol to them: *?, +?, ??, {n,m}?, and {n,}?.\n",
    "\n",
    "One thing to watch out for: given a pattern such as /^(.*?)%(.*?)/ one\n",
    "\n",
    "could match and extract the first two fields of a like of % separated\n",
    "\n",
    "data:\n",
    "\n",
    "#!/usr/bin/perl -w\n",
    "\n",
    "use strict;\n",
    "\n",
    "$_ = 'Johnson%Andrew%AX321%37';\n",
    "\n",
    "m/^(.*?)%(.*?)%/;\n",
    "\n",
    "print \"$2 $1\\n\";\n",
    "\n",
    "And one can easily begin to think of each subexpression as\n",
    "\n",
    "meaning 'match up to the next % symbol', but that isn't exactly what it\n",
    "\n",
    "means. Let's say that the third field represents an ID tag and we want\n",
    "\n",
    "to extract only those names of people with ID tags starting with 'A'.\n",
    "\n"
   ]
  },
  {
   "cell_type": "markdown",
   "id": "96b96d29",
   "metadata": {},
   "source": [
    "<b>Q3. In a simple match of a string, which looks only for one match and does not do any replacement, is the use of a nontagged group likely to make any practical difference?\n",
    "</b>"
   ]
  },
  {
   "cell_type": "markdown",
   "id": "ebd2d493",
   "metadata": {},
   "source": [
    "<b>Q4. Describe a scenario in which using a nontagged category would have a significant impact on the program's outcomes.\n",
    "</b>"
   ]
  },
  {
   "cell_type": "markdown",
   "id": "ec1ef738",
   "metadata": {},
   "source": [
    "<b>Q5. Unlike a normal regex pattern, a look-ahead condition does not consume the characters it examines. Describe a situation in which this could make a difference in the results of your programme.\n",
    "</b>"
   ]
  },
  {
   "cell_type": "markdown",
   "id": "3d365869",
   "metadata": {},
   "source": [
    "<b>Q6. In standard expressions, what is the difference between positive look-ahead and negative look-ahead?</b>"
   ]
  },
  {
   "cell_type": "markdown",
   "id": "29c20330",
   "metadata": {},
   "source": [
    "Ans: The syntax is: X(?=Y), it means \"look for X, but match only if followed by Y\". There may be any pattern instead of X and Y.\n",
    "\n",
    "For an integer number followed by €, the regexp will be \\d+(?=€):\n",
    "    \n",
    "When we look for X(?=Y), the regular expression engine finds X and then checks if there’s Y immediately after it. If it’s not so, then the potential match is skipped, and the search continues.\n",
    "\n",
    "More complex tests are possible, e.g. X(?=Y)(?=Z) means:\n",
    "\n",
    "Find X.\n",
    "Check if Y is immediately after X (skip if isn’t).\n",
    "Check if Z is also immediately after X (skip if isn’t).\n",
    "If both tests passed, then the X is a match, otherwise continue searching.\n",
    "In other words, such pattern means that we’re looking for X followed by Y and Z at the same time.\n",
    "\n",
    "That’s only possible if patterns Y and Z aren’t mutually exclusive.\n",
    "\n",
    "For example, \\d+(?=\\s)(?=.*30) looks for \\d+ that is followed by a space (?=\\s), and there’s 30 somewhere after it (?=.*30):\n",
    "    \n",
    "Negative lookahead:\n",
    "    \n",
    "Let’s say that we want a quantity instead, not a price from the same string. That’s a number \\d+, NOT followed by €.\n",
    "\n",
    "For that, a negative lookahead can be applied.\n",
    "\n",
    "The syntax is: X(?!Y), it means \"search X, but only if not followed by Y\".\n",
    "\n",
    "let str = \"2 turkeys cost 60€\";\n",
    "\n",
    "alert( str.match(/\\d+\\b(?!€)/g) ); // 2 (the price is not matched)\n"
   ]
  },
  {
   "cell_type": "markdown",
   "id": "743f0789",
   "metadata": {},
   "source": [
    "<b>Q7. What is the benefit of referring to groups by name rather than by number in a standard expression?\n",
    "</b>"
   ]
  },
  {
   "cell_type": "markdown",
   "id": "8587b88c",
   "metadata": {},
   "source": [
    "Ans: In Python, the (?P<group_name>…) syntax allows one to refer to the matched string through its name:\n",
    "\n",
    "import re\n",
    "match = re.search('(?P<name>.*) (?P<phone>.*)', 'John 123456')\n",
    "match.group('name')\n",
    "'John'\n"
   ]
  },
  {
   "cell_type": "markdown",
   "id": "ca0a82e6",
   "metadata": {},
   "source": [
    "<b>Q8. Can you identify repeated items within a target string using named groups, as in \"The cow jumped over the moon\"?\n",
    "</b>"
   ]
  },
  {
   "cell_type": "markdown",
   "id": "706561f6",
   "metadata": {},
   "source": [
    "Ans: To match an UPPERCASE word\n",
    "To match a number\n",
    "To extract the uppercase word and number from the target string we must first write two regular expression patterns.\n",
    "\n",
    "Pattern to match the uppercase word (The cow jumped over the moon)\n",
    "Pattern to match the number (20).\n",
    "The first group pattern to search for an uppercase word: [A-Z]+\n",
    "\n",
    "[A-Z] is the character class. It means match any letter from the capital A to capital Z in uppercase exclusively.\n",
    "Then the + metacharacter indicates 1 or more occurrence of an uppercase letter\n"
   ]
  },
  {
   "cell_type": "markdown",
   "id": "db137d3b",
   "metadata": {},
   "source": [
    "<b>Q9. When parsing a string, what is at least one thing that the Scanner interface does for you that the re.findall feature does not?\n",
    "</b>"
   ]
  },
  {
   "cell_type": "markdown",
   "id": "ff64c08c",
   "metadata": {},
   "source": [
    "Ans: re.search()\n",
    "re.search() method either returns None (if the pattern doesn’t match), or a re.MatchObject that contains information about the matching part of the string. This method stops after the first match, so this is best suited for testing a regular expression more than extracting data.\n",
    "re.findall()\n",
    "Return all non-overlapping matches of pattern in string, as a list of strings. The string is scanned left-to-right, and matches are returned in the order found.\n",
    "\n"
   ]
  },
  {
   "cell_type": "markdown",
   "id": "6e166786",
   "metadata": {},
   "source": [
    "<b>Q10. Does a scanner object have to be named scanner?</b>"
   ]
  },
  {
   "cell_type": "markdown",
   "id": "d04b7959",
   "metadata": {},
   "source": [
    "Ans: myvar = MyClass(name=\"example\")\n",
    "In Java, the syntax is very similar:\n",
    "\n",
    "in = new Scanner(System.in);\n",
    "And just like in Python, we can now call methods on it, such as:\n",
    "\n",
    "fahr = in.nextDouble();\n",
    "This is just about identical to what the equivalent Python code would look like. It's possible I'm not understanding the source."
   ]
  },
  {
   "cell_type": "markdown",
   "id": "d7793cc7",
   "metadata": {},
   "source": [
    "<b></b>"
   ]
  },
  {
   "cell_type": "markdown",
   "id": "1bba2abe",
   "metadata": {},
   "source": [
    "<b></b>"
   ]
  },
  {
   "cell_type": "markdown",
   "id": "5022acdd",
   "metadata": {},
   "source": [
    "<b></b>"
   ]
  },
  {
   "cell_type": "markdown",
   "id": "2deedf16",
   "metadata": {},
   "source": [
    "<b></b>"
   ]
  },
  {
   "cell_type": "markdown",
   "id": "cb2c2d24",
   "metadata": {},
   "source": [
    "<b></b>"
   ]
  },
  {
   "cell_type": "markdown",
   "id": "94585f60",
   "metadata": {},
   "source": [
    "<b></b>"
   ]
  }
 ],
 "metadata": {
  "kernelspec": {
   "display_name": "Python 3",
   "language": "python",
   "name": "python3"
  },
  "language_info": {
   "codemirror_mode": {
    "name": "ipython",
    "version": 3
   },
   "file_extension": ".py",
   "mimetype": "text/x-python",
   "name": "python",
   "nbconvert_exporter": "python",
   "pygments_lexer": "ipython3",
   "version": "3.8.8"
  }
 },
 "nbformat": 4,
 "nbformat_minor": 5
}
