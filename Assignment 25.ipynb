{
 "cells": [
  {
   "cell_type": "markdown",
   "id": "bd480cda",
   "metadata": {},
   "source": [
    "<b>Q1. What is the distinction between a numpy array and a pandas data frame? Is there a way to convert between the two if there is?\n",
    "</b>"
   ]
  },
  {
   "cell_type": "code",
   "execution_count": null,
   "id": "1c4f7a86",
   "metadata": {},
   "outputs": [],
   "source": [
    "Ans: There are some differences between Pandas and NumPy that is listed below:\n",
    "\n",
    "The Pandas module mainly works with the tabular data, whereas the NumPy module works with the numerical data.\n",
    "The Pandas provides some sets of powerful tools like DataFrame and Series that mainly used for analyzing the data, whereas in NumPy module offers a powerful object called Array.\n",
    "Instacart, SendGrid, and Sighten are some of the famous companies that work on the Pandas module, whereas NumPy is used by SweepSouth.\n",
    "The Pandas covered the broader application because it is mentioned in 73 company stacks and 46 developer stacks, whereas in NumPy, 62 company stacks and 32 developer stacks are being mentioned.\n",
    "The performance of NumPy is better than the NumPy for 50K rows or less.\n",
    "The performance of Pandas is better than the NumPy for 500K rows or more. Between 50K to 500K rows, performance depends on the kind of operation.\n",
    "NumPy library provides objects for multi-dimensional arrays, whereas Pandas is capable of offering an in-memory 2d table object called DataFrame.\n",
    "NumPy consumes less memory as compared to Pandas.\n",
    "Indexing of the Series objects is quite slow as compared to NumPy arrays."
   ]
  },
  {
   "cell_type": "markdown",
   "id": "3f92696b",
   "metadata": {},
   "source": [
    "<b>Q2. What can go wrong when an user enters in a stock-ticker symbol, and how do you handle it?\n",
    "</b>"
   ]
  },
  {
   "cell_type": "markdown",
   "id": "0e1a6f5e",
   "metadata": {},
   "source": [
    "Ans: Pulling Historical Prices\n",
    "I chose to analyze the Disney stock price over the past two years. Disney has been in the news frequently and the stock price has seen massive swings over the course of two years, so the choice was made for the purpose of visualization.\n",
    "Initial Plot\n",
    "If you have read any of my other articles, the steps to this point should have been second nature. Pandas has built in support for matplotlib, so plotting the historical prices is incredibly easy. Below, I plot the historical price of Disney stock:\n",
    "n to the Good Part\n",
    "Although plotting the historical prices can be seen as an achievement, analysis is limited with one feature. As promised, I will now demonstrate how to add statistics to the chart, for the development of a more informed trading strategy.\n",
    "Moving Averages\n",
    "The first new feature I will plot is a moving average. A moving average is an indicator that smooths the volatility of daily price changes. A technical analyst chooses a window for the average and a corresponding dataset is computed."
   ]
  },
  {
   "cell_type": "markdown",
   "id": "abefc71b",
   "metadata": {},
   "source": [
    "<b>Q3. Identify some of the plotting techniques that are used to produce a stock-market chart.\n",
    "</b>"
   ]
  },
  {
   "cell_type": "markdown",
   "id": "6c0f899b",
   "metadata": {},
   "source": [
    "Ans: Matplotlib.pyplot.legend()\n",
    "A legend is an area describing the elements of the graph. In the matplotlib library, there’s a function called legend() which is used to Place a legend on the axes.\n",
    "\n",
    "The attribute Loc in legend() is used to specify the location of the legend.Default value of loc is loc=”best” (upper left). The strings ‘upper left’, ‘upper right’, ‘lower left’, ‘lower right’ place the legend at the corresponding corner of the axes/figure.\n",
    "\n",
    "The attribute bbox_to_anchor=(x, y) of legend() function is used to specify the coordinates of the legend, and the attribute ncol represents the number of columns that the legend has.It’s default value is 1.\n",
    "\n",
    "Syntax:\n",
    "\n",
    "\n",
    "\n",
    "matplotlib.pyplot.legend([“blue”, “green”], bbox_to_anchor=(0.75, 1.15), ncol=2"
   ]
  },
  {
   "cell_type": "markdown",
   "id": "e11609d7",
   "metadata": {},
   "source": [
    "<b>Q4. Why is it essential to print a legend on a stock market chart?\n",
    "</b>"
   ]
  },
  {
   "cell_type": "markdown",
   "id": "3370301a",
   "metadata": {},
   "source": [
    "Ans: Matplotlib.pyplot.legend()\n",
    "A legend is an area describing the elements of the graph. In the matplotlib library, there’s a function called legend() which is used to Place a legend on the axes.\n",
    "\n",
    "The attribute Loc in legend() is used to specify the location of the legend.Default value of loc is loc=”best” (upper left). The strings ‘upper left’, ‘upper right’, ‘lower left’, ‘lower right’ place the legend at the corresponding corner of the axes/figure.\n",
    "\n",
    "The attribute bbox_to_anchor=(x, y) of legend() function is used to specify the coordinates of the legend, and the attribute ncol represents the number of columns that the legend has.It’s default value is 1.\n",
    "\n",
    "Syntax:\n",
    "\n",
    "\n",
    "\n",
    "matplotlib.pyplot.legend([“blue”, “green”], bbox_to_anchor=(0.75, 1.15), ncol=2"
   ]
  },
  {
   "cell_type": "markdown",
   "id": "6ab7121c",
   "metadata": {},
   "source": [
    "<b>Q5. What is the best way to limit the length of a pandas data frame to less than a year?\n",
    "</b>"
   ]
  },
  {
   "cell_type": "markdown",
   "id": "818efe5b",
   "metadata": {},
   "source": [
    "Ans: Depending on your environment, pandas automatically creates int32, int64, float32 or float64 columns for numeric ones. If you know the min or max value of a column, you can use a subtype which is less memory consuming. You can also use an unsigned subtype if there is no negative value.\n",
    "Here are the different subtypes you can use:\n",
    "int8 / uint8 : consumes 1 byte of memory, range between -128/127 or 0/255\n",
    "bool : consumes 1 byte, true or false\n",
    "float16 / int16 / uint16: consumes 2 bytes of memory, range between -32768 and 32767 or 0/65535\n",
    "float32 / int32 / uint32 : consumes 4 bytes of memory, range between -2147483648 and 2147483647\n",
    "float64 / int64 / uint64: consumes 8 bytes of memory\n",
    "If one of your column has values between 1 and 10 for example, you will reduce the size of that column from 8 bytes per row to 1 byte, which is more than 85% memory saving on that column!\n"
   ]
  },
  {
   "cell_type": "markdown",
   "id": "6f8bebdd",
   "metadata": {},
   "source": [
    "<b>Q6. What is the definition of a 180-day moving average?</b>"
   ]
  },
  {
   "cell_type": "markdown",
   "id": "0d4aee8c",
   "metadata": {},
   "source": [
    "Ans: A simple moving average (SMA) calculates the average of a selected range of prices, usually closing prices, by the number of periods in that range.\n",
    "\n",
    "KEY TAKEAWAYS\n",
    "A simple moving average (SMA) calculates the average of a selected range of prices, usually closing prices, by the number of periods in that range.\n",
    "A simple moving average is a technical indicator that can aid in determining if an asset price will continue or if it will reverse a bull or bear trend.\n",
    "A simple moving average can be enhanced as an exponential moving average (EMA) that is more heavily weighted on recent price action."
   ]
  },
  {
   "cell_type": "markdown",
   "id": "13fe8164",
   "metadata": {},
   "source": [
    "<b>Q7. Did the chapter's final example use \"indirect\" importing? If so, how exactly do you do it?\n",
    "</b>"
   ]
  },
  {
   "cell_type": "markdown",
   "id": "900dd2ce",
   "metadata": {},
   "source": [
    "Ans:Python code in one module gains access to the code in another module by the process of importing it. The import statement is the most common way of invoking the import machinery, but it is not the only way. Functions such as importlib.import_module() and built-in __import__() can also be used to invoke the import machinery.\n",
    "\n",
    "The import statement combines two operations; it searches for the named module, then it binds the results of that search to a name in the local scope. The search operation of the import statement is defined as a call to the __import__() function, with the appropriate arguments. The return value of __import__() is used to perform the name binding operation of the import statement. See the import statement for the exact details of that name binding operation.\n",
    "\n",
    "A direct call to __import__() performs only the module search and, if found, the module creation operation. While certain side-effects may occur, such as the importing of parent packages, and the updating of various caches (including sys.modules), only the import statement performs a name binding operation.\n",
    "\n",
    "When an import statement is executed, the standard builtin __import__() function is called. Other mechanisms for invoking the import system (such as importlib.import_module()) may choose to bypass __import__() and use their own solutions to implement import semantics."
   ]
  }
 ],
 "metadata": {
  "kernelspec": {
   "display_name": "Python 3",
   "language": "python",
   "name": "python3"
  },
  "language_info": {
   "codemirror_mode": {
    "name": "ipython",
    "version": 3
   },
   "file_extension": ".py",
   "mimetype": "text/x-python",
   "name": "python",
   "nbconvert_exporter": "python",
   "pygments_lexer": "ipython3",
   "version": "3.8.8"
  }
 },
 "nbformat": 4,
 "nbformat_minor": 5
}
