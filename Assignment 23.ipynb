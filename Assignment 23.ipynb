{
 "cells": [
  {
   "cell_type": "markdown",
   "id": "7b6988de",
   "metadata": {},
   "source": [
    "<b>Q1. If you have any, what are your choices for increasing the comparison between different figures on the same graph?\n",
    "</b>"
   ]
  },
  {
   "cell_type": "markdown",
   "id": "a037b281",
   "metadata": {},
   "source": [
    "And: It's depend on the conditions : \n",
    " a Line graph.\n",
    "\n",
    "Line graphs are used to track changes over short and long periods of time. When smaller changes exist, line graphs are better to use than bar graphs. Line graphs can also be used to compare changes over the same period of time for more than one group.\n",
    "\n",
    "1)a Pie Chart.\n",
    "\n",
    "Pie charts are best to use when you are trying to compare parts of a whole. They do not show changes over time.\n",
    "\n",
    "2)a Bar Graph.\n",
    "\n",
    "Bar graphs are used to compare things between different groups or to track changes over time. However, when trying to measure change over time, bar graphs are best when the changes are larger.\n",
    "\n",
    "3) an Area Graph.\n",
    "\n",
    "Area graphs are very similar to line graphs. They can be used to track changes over time for one or more groups. Area graphs are good to use when you are tracking the changes in two or more related groups that make up one whole category (for example public and private groups).\n",
    "\n",
    " an X-Y Plot.\n",
    "\n",
    "X-Y plots are used to determine relationships between the two different things. The x-axis is used to measure one event (or variable) and the y-axis is used to measure the other. If both variables increase at the same time, they have a positive relationship. If one variable decreases while the other increases, they have a negative relationship. Sometimes the variables don't follow any pattern and have no relationship.\n"
   ]
  },
  {
   "cell_type": "markdown",
   "id": "cf440767",
   "metadata": {},
   "source": [
    "<b>Q2. Can you explain the benefit of compound interest over a higher rate of interest that does not compound after reading this chapter?\n",
    "</b>"
   ]
  },
  {
   "cell_type": "markdown",
   "id": "bd6a66ea",
   "metadata": {},
   "source": [
    "Ans: Compound interest (or compounding interest) is the interest on a loan or deposit calculated based on both the initial principal and the accumulated interest from previous periods. Thought to have originated in 17th-century Italy, compound interest can be thought of as \"interest on interest,\" \n",
    "and will make a sum grow at a faster rate than simple interest, which is calculated only on the principal amount."
   ]
  },
  {
   "cell_type": "markdown",
   "id": "b8b89df4",
   "metadata": {},
   "source": [
    "<b>Q3. What is a histogram, exactly? Name a numpy method for creating such a graph.\n",
    "</b>"
   ]
  },
  {
   "cell_type": "markdown",
   "id": "2ffe4b23",
   "metadata": {},
   "source": [
    "Ans: A histogram is a great tool for quickly assessing a probability distribution that is intuitively understood by almost any audience. Python offers a handful of different options for building and plotting histograms. \n",
    "Most people know a histogram by its graphical representation, which is similar to a bar graph:"
   ]
  },
  {
   "cell_type": "markdown",
   "id": "a2818665",
   "metadata": {},
   "source": [
    "<b>Q4. If necessary, how do you change the aspect ratios between the X and Y axes?\n",
    "</b>"
   ]
  },
  {
   "cell_type": "markdown",
   "id": "ebd9367a",
   "metadata": {},
   "source": [
    "Ans: As we are working on a graph we must focus on the division of both co-ordinates which is X and Y.\n",
    "\n",
    "The method set_aspect() is used to set the aspect ratio. The parameter of this method is a number which is a division of the X-axis with respect to the Y-axis.\n",
    "\n",
    "The aim is to achieve a precise and ideal ratio by traversing the values of X and Y\n",
    "We are taking a line plot using plot()\n",
    "\n",
    "1] With no fixed aspect ratio\n",
    "\n",
    "import matplotlib.pyplot as plt\n",
    "import numpy as np\n",
    "#Setting the axes.\n",
    "x = np.arange(1,5,0.2)\n",
    "y = np.sin(7*x)\n",
    "#Setting the Dimentions of the Graph\n",
    "plt.figure(figsize = (5,5))\n",
    "plt.plot(x,y)\n",
    "plt.title('plot with undefined aspect ratio')\n",
    "plt.show()"
   ]
  },
  {
   "cell_type": "markdown",
   "id": "89154976",
   "metadata": {},
   "source": [
    "<b>Q5. Compare and contrast the three types of array multiplication between two numpy arrays: dot product, outer product, and regular multiplication of two numpy arrays.\n",
    "</b>"
   ]
  },
  {
   "cell_type": "markdown",
   "id": "77768378",
   "metadata": {},
   "source": [
    "Ans: numpy.dot(a, b, out=None)\n",
    "Dot product of two arrays. Specifically,\n",
    "\n",
    "If both a and b are 1-D arrays, it is inner product of vectors (without complex conjugation).\n",
    "\n",
    "If both a and b are 2-D arrays, it is matrix multiplication, but using matmul or a @ b is preferred.\n",
    "\n",
    "If either a or b is 0-D (scalar), it is equivalent to multiply and using numpy.multiply(a, b) or a * b is preferred.\n",
    "\n",
    "If a is an N-D array and b is a 1-D array, it is a sum product over the last axis of a and b.\n",
    "\n",
    "If a is an N-D array and b is an M-D array (where M>=2), it is a sum product over the last axis of a and the second-to-last axis of b:\n",
    "\n",
    "dot(a, b)[i,j,k,m] = sum(a[i,j,:] * b[k,:,m])\n",
    "Parameters\n",
    "aarray_like\n",
    "First argument.\n",
    "\n",
    "barray_like\n",
    "Second argument.\n",
    "\n",
    "outndarray, optional\n",
    "Output argument. This must have the exact kind that would be returned if it was not used. In particular, it must have the right type, must be C-contiguous, and its dtype must be the dtype that would be returned for dot(a,b). This is a performance feature. Therefore, if these conditions are not met, an exception is raised, instead of attempting to be flexible.\n",
    "\n",
    "Returns\n",
    "outputndarray\n",
    "Returns the dot product of a and b. If a and b are both scalars or both 1-D arrays then a scalar is returned; otherwise an array is returned. If out is given, then it is returned.\n",
    "\n",
    "Raises\n",
    "ValueError\n",
    "If the last dimension of a is not the same size as the second-to-last dimension of b."
   ]
  },
  {
   "cell_type": "markdown",
   "id": "7ae11d16",
   "metadata": {},
   "source": [
    "<b>Q6. Before you buy a home, which numpy function will you use to measure your monthly mortgage payment?\n",
    "</b>"
   ]
  },
  {
   "cell_type": "markdown",
   "id": "ae060690",
   "metadata": {},
   "source": [
    "Ans: \n",
    "In order to calculate the monthly mortgage payment, you will use the numpy function . pmt(rate, nper, pv) where: rate = The periodic (monthly) interest rate. nper = The number of payment periods (months) in the lifespan of the mortgage loan."
   ]
  },
  {
   "cell_type": "markdown",
   "id": "2ff332d4",
   "metadata": {},
   "source": [
    "<b>Q7. Can string data be stored in numpy arrays? If so, list at least one restriction that applies to this data.\n",
    "</b>"
   ]
  },
  {
   "cell_type": "markdown",
   "id": "ae045b30",
   "metadata": {},
   "source": [
    "Ans: NumPy arrays. The elements of a NumPy array, or simply an array, are usually numbers, but can also be boolians, strings, or other objects. When the elements are numbers, they must all be of the same type. For example, they might be all integers or all floating point numbers."
   ]
  }
 ],
 "metadata": {
  "kernelspec": {
   "display_name": "Python 3",
   "language": "python",
   "name": "python3"
  },
  "language_info": {
   "codemirror_mode": {
    "name": "ipython",
    "version": 3
   },
   "file_extension": ".py",
   "mimetype": "text/x-python",
   "name": "python",
   "nbconvert_exporter": "python",
   "pygments_lexer": "ipython3",
   "version": "3.8.8"
  }
 },
 "nbformat": 4,
 "nbformat_minor": 5
}
