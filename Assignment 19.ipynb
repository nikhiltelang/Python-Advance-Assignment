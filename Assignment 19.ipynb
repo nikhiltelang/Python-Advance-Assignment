{
 "cells": [
  {
   "cell_type": "markdown",
   "metadata": {},
   "source": [
    "<b>Q1. Define the relationship between a class and its instances. Is it a one-to-one or a one-to-many\n",
    "partnership, for example?</b>"
   ]
  },
  {
   "cell_type": "markdown",
   "metadata": {},
   "source": [
    "Ans : When an object of a class is created, the class is said to be instantiated. All the instances share the attributes and the behavior of the class. But the values of those attributes, i.e. the state are unique for each object. A single class may have any number of instances."
   ]
  },
  {
   "cell_type": "markdown",
   "metadata": {},
   "source": [
    "<b>Q2. What kind of data is held only in an instance?</b>"
   ]
  },
  {
   "cell_type": "markdown",
   "metadata": {},
   "source": [
    "Ans : \n",
    "Instance variables are owned by instances of the class. This means that for each object or instance of a class, the instance variables are different. ... Instance variables, owned by objects of the class, allow for each object or instance to have different values assigned to those variables"
   ]
  },
  {
   "cell_type": "markdown",
   "metadata": {},
   "source": [
    "<b>Q3. What kind of knowledge is stored in a class?</b>"
   ]
  },
  {
   "cell_type": "markdown",
   "metadata": {},
   "source": [
    "Ans : class created when an object is instantiated, and are accessible to all the constructors, methods, or blocks in the class. ... It is a type of class attribute (or class property, field, or data member)."
   ]
  },
  {
   "cell_type": "markdown",
   "metadata": {},
   "source": [
    "<b>Q4. What exactly is a method, and how is it different from a regular function?</b>"
   ]
  },
  {
   "cell_type": "markdown",
   "metadata": {},
   "source": [
    "Ans : Python method is called on an object, unlike a function. In our example above, we call start() on the object ‘car’. Conversely, we call Python function quite generically- we don’t call it on any object. Since we call a method on an object, it can access the data within it.\n",
    "A method may alter an object’s state, but Python function usually only operates on it, and then prints something or returns a value."
   ]
  },
  {
   "cell_type": "markdown",
   "metadata": {},
   "source": [
    "<b>Q5. Is inheritance supported in Python, and if so, what is the syntax?</b>"
   ]
  },
  {
   "cell_type": "markdown",
   "metadata": {},
   "source": [
    "Ans : Inheritance support in python.\n",
    "    <br>\n",
    "    class derived-class(base class):  \n",
    "    <br><class-suite>   "
   ]
  },
  {
   "cell_type": "markdown",
   "metadata": {},
   "source": [
    "<b>Q6. How much encapsulation (making instance or class variables private) does Python support?</b>"
   ]
  },
  {
   "cell_type": "markdown",
   "metadata": {},
   "source": [
    "Ans : Encapsulation is one of the fundamental concepts in object-oriented programming (OOP). It describes the idea of wrapping data and the methods that work on data within one unit. This puts restrictions on accessing variables and methods directly and can prevent the accidental modification of data. To prevent accidental change, an object’s variable can only be changed by an object’s method. Those types of variables are known as private variable. "
   ]
  },
  {
   "cell_type": "markdown",
   "metadata": {},
   "source": [
    "<b>Q7. How do you distinguish between a class variable and an instance variable?</b>"
   ]
  },
  {
   "cell_type": "markdown",
   "metadata": {},
   "source": [
    "Ans : class variable : It is a variable that defines a specific attribute or property for a class.  These variables can be shared between class and its subclasses. It usually maintains a single shared value for all instances of class even if no instance object of the class exists.It is generally created when the program begins to execute.  It normally retains values until the program terminates.It has only one copy of the class variable so it is shared among different objects of the class.  It can be accessed by calling with the class name.  \n",
    "<br>Instance Variable : It is a variable whose value is instance-specific and now shared among instances. These variables cannot be shared between classes. Instead, they only belong to one specific class.It usually reserves memory for data that the class needs.  It is generally created when an instance of the class is created.  It normally retains values as long as the object exists.  It has many copies so every object has its own personal copy of the instance variable. It can be accessed directly by calling variable names inside the class.  "
   ]
  },
  {
   "cell_type": "markdown",
   "metadata": {},
   "source": [
    "<b>Q8. When, if ever, can self be included in a class&#39;s method definitions?</b>"
   ]
  },
  {
   "cell_type": "code",
   "execution_count": null,
   "metadata": {},
   "outputs": [],
   "source": []
  },
  {
   "cell_type": "markdown",
   "metadata": {},
   "source": [
    "<b>Q9. What is the difference between the _ _add_ _ and the _ _radd_ _ methods?</b>"
   ]
  },
  {
   "cell_type": "markdown",
   "metadata": {},
   "source": [
    "Ans : We also talk about the __radd__ method, necessary to sum a list of instances. When we sum two objects in Python, like. a + b. what really happens is that the __add__ method of the a object is called: a.__add__(b) Which means that we can control the result of a sum of two objects by modifying or defying the __add__ method."
   ]
  },
  {
   "cell_type": "markdown",
   "metadata": {},
   "source": [
    "<b>Q10. When is it necessary to use a reflection method? When do you not need it, even though you\n",
    "support the operation in question?</b>"
   ]
  },
  {
   "cell_type": "markdown",
   "metadata": {},
   "source": [
    "Ans : Reflection refers to the ability for code to be able to examine attributes about objects that might be passed as parameters to a function. For example, if we write type(obj) then Python will return an object which represents the type of obj.\n",
    "\n",
    "Using reflection, we can write one recursive reverse function that will work for strings, lists, and any other sequence that supports slicing and concatenation."
   ]
  },
  {
   "cell_type": "markdown",
   "metadata": {},
   "source": [
    "<b>Q11. What is the _ _iadd_ _ method called?</b>"
   ]
  },
  {
   "cell_type": "markdown",
   "metadata": {},
   "source": [
    "Ans : \n",
    "__iadd__(y) . In other words, Python assigns the return value of your __iadd__ implementation to the object you're \"adding to\", AFTER the implementation completes. This means it is possible to mutate the left side of the x += y operation so that the final implicit step fails."
   ]
  },
  {
   "cell_type": "markdown",
   "metadata": {},
   "source": [
    "<b>Q12. Is the _ _init_ _ method inherited by subclasses? What do you do if you need to customize its\n",
    "behavior within a subclass?</b>"
   ]
  },
  {
   "cell_type": "markdown",
   "metadata": {},
   "source": [
    "<b></b>"
   ]
  },
  {
   "cell_type": "markdown",
   "metadata": {},
   "source": [
    "Ans : Subclasses inherit those member variables declared as public or protected.\n",
    "Subclasses inherit those member variables declared with no access specifier as long as the subclass is in the same package as the superclass.\n",
    "Subclasses don't inherit a superclass's member variable if the subclass declares a member variable using the same name. The subclass's member variable is said to hide the member variable in the superclass.\n",
    "Subclasses don't inherit the superclass's private member variables."
   ]
  },
  {
   "cell_type": "markdown",
   "metadata": {},
   "source": [
    "<b></b>"
   ]
  },
  {
   "cell_type": "markdown",
   "metadata": {},
   "source": [
    "<b></b>"
   ]
  },
  {
   "cell_type": "markdown",
   "metadata": {},
   "source": [
    "<b></b>"
   ]
  },
  {
   "cell_type": "markdown",
   "metadata": {},
   "source": [
    "<b></b>"
   ]
  }
 ],
 "metadata": {
  "kernelspec": {
   "display_name": "Python 3 (ipykernel)",
   "language": "python",
   "name": "python3"
  },
  "language_info": {
   "codemirror_mode": {
    "name": "ipython",
    "version": 3
   },
   "file_extension": ".py",
   "mimetype": "text/x-python",
   "name": "python",
   "nbconvert_exporter": "python",
   "pygments_lexer": "ipython3",
   "version": "3.9.2"
  }
 },
 "nbformat": 4,
 "nbformat_minor": 4
}
