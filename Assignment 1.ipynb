{
 "cells": [
  {
   "cell_type": "markdown",
   "metadata": {},
   "source": [
    "<b>Q1. What is the purpose of Python's OOP?\n",
    "</b>"
   ]
  },
  {
   "cell_type": "markdown",
   "metadata": {},
   "source": [
    "Ans:It allows us to develop applications using an Object-Oriented approach. In Python,\n",
    "    we can easily create and use classes and objects. An object-oriented paradigm \n",
    "    is to design the program using classes and objects.\n",
    "    The object is related to real-word entities such as book, house, pencil, etc."
   ]
  },
  {
   "cell_type": "markdown",
   "metadata": {},
   "source": [
    "<b>Q2. Where does an inheritance search look for an attribute?</b>"
   ]
  },
  {
   "cell_type": "markdown",
   "metadata": {},
   "source": [
    "Ans: All of these objects are namespaces (packages of variables), and the inheritance search is\n",
    "    simply a search of the tree from bottom to top looking for the lowest occurrence of an attribute name."
   ]
  },
  {
   "cell_type": "markdown",
   "metadata": {},
   "source": [
    "<b>Q3. How do you distinguish between a class object and an instance object?</b>"
   ]
  },
  {
   "cell_type": "markdown",
   "metadata": {},
   "source": [
    "Ans: Class : a specification, blueprint for an object.<br>\n",
    "Object : physical presence of the class in memory.<br>\n",
    "Instance : an unique copy of the object (same structure, different data)"
   ]
  },
  {
   "cell_type": "markdown",
   "metadata": {},
   "source": [
    "<b>Q4. What makes the first argument in a class’s method function special?</b>"
   ]
  },
  {
   "cell_type": "markdown",
   "metadata": {},
   "source": [
    "Ans:\n",
    "The reason you need to use self. is because Python does not use the @ syntax to <br>\n",
    "refer to instance attributes. Python decided to do methods in a way that makes<br>\n",
    "the instance to which the method belongs be passed automatically, but not received<br> \n",
    "automatically: the first parameter of methods is the instance the method is called on.<br>\n",
    "That makes methods entirely the same as functions, and leaves the actual name to use up to you<br> \n",
    "(although self is the convention, and people will generally frown at you when you use something else.)<br> \n",
    "self is not special to the code, it's just another object."
   ]
  },
  {
   "cell_type": "markdown",
   "metadata": {},
   "source": [
    "<b>Q5. What is the purpose of the __init__ method?</b>"
   ]
  },
  {
   "cell_type": "markdown",
   "metadata": {},
   "source": [
    "Ans: \n",
    "    __init__ is a reseved method in python classes. It is called as a constructor in object oriented terminology. <br>\n",
    "    This method is called when an object is created from <br>\n",
    "    a class and it allows the class to initialize the attributes of the class."
   ]
  },
  {
   "cell_type": "markdown",
   "metadata": {},
   "source": [
    "<b>Q6. What is the process for creating a class instance?</b>"
   ]
  },
  {
   "cell_type": "markdown",
   "metadata": {},
   "source": [
    "Ans:When you create an object, you are creating an instance of a class, therefore \"instantiating\" a class.<br>\n",
    "    The new operator requires a single, postfix argument: a call to a constructor. <br>\n",
    "    The name of the constructor provides the name of the class to instantiate. The constructor initializes the new object."
   ]
  },
  {
   "cell_type": "markdown",
   "metadata": {},
   "source": [
    "<b>Q7. What is the process for creating a class?</b>"
   ]
  },
  {
   "cell_type": "markdown",
   "metadata": {},
   "source": [
    "Ans: Class variable is a variable that is shared by all the different objects/instances of a class.<br>\n",
    "Instance variables are variables which are unique to each instance. It is defined inside a method and belongs only to the current instance of a class.<br>\n",
    "Methods are also called as functions which are defined in a class and describes the behaviour of an object.<br>\n",
    "\n",
    "Example:<br>\n",
    "class Class_name:<br>\n",
    "statement-1<br>\n",
    "statement-N"
   ]
  },
  {
   "cell_type": "markdown",
   "metadata": {},
   "source": [
    "<b>Q8. How would you define the superclasses of a class?</b>"
   ]
  },
  {
   "cell_type": "markdown",
   "metadata": {},
   "source": [
    "Ans: \n",
    "The class from which a class inherits is called the parent or superclass.<br>\n",
    "A class which inherits from a superclass is called a subclass, also called heir class or child class. <br>\n",
    "Superclasses are sometimes called ancestors as well. There exists a hierarchical relationship between classes.<br>\n",
    "\n",
    "Example:<br>\n",
    "#superclass<br>\n",
    "class Person():<br>\n",
    "    def display1(self):<br>\n",
    "        print(\"This is superclass\")<br>\n",
    " \n",
    "#subclass\n",
    "class Employee(Person):<br>\n",
    "    def display2(self):<br>\n",
    "        print(\"This is subclass\")<br>\n",
    "emp = Employee()  # creating object of subclass<br>\n",
    " \n",
    "emp.display1()<br>\n",
    "emp.display2()"
   ]
  },
  {
   "cell_type": "code",
   "execution_count": null,
   "metadata": {},
   "outputs": [],
   "source": []
  }
 ],
 "metadata": {
  "kernelspec": {
   "display_name": "Python 3 (ipykernel)",
   "language": "python",
   "name": "python3"
  },
  "language_info": {
   "codemirror_mode": {
    "name": "ipython",
    "version": 3
   },
   "file_extension": ".py",
   "mimetype": "text/x-python",
   "name": "python",
   "nbconvert_exporter": "python",
   "pygments_lexer": "ipython3",
   "version": "3.9.2"
  }
 },
 "nbformat": 4,
 "nbformat_minor": 4
}
